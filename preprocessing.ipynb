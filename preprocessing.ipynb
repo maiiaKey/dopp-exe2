{
 "cells": [
  {
   "cell_type": "code",
   "execution_count": 1,
   "metadata": {},
   "outputs": [],
   "source": [
    "import kagglehub\n",
    "import pandas as pd\n",
    "from scipy.spatial import KDTree\n",
    "import numpy as np\n",
    "import requests\n",
    "from io import BytesIO\n",
    "from zipfile import ZipFile\n",
    "import os"
   ]
  },
  {
   "cell_type": "code",
   "execution_count": 2,
   "metadata": {},
   "outputs": [],
   "source": [
    "# download dataset and load into DataFrame\n",
    "path_hotel_reviews = kagglehub.dataset_download(\"jiashenliu/515k-hotel-reviews-data-in-europe\")\n",
    "df = pd.read_csv(path_hotel_reviews + '/Hotel_Reviews.csv')\n",
    "df['id'] = range(1, len(df) + 1)\n",
    "# drop rows with missing values (only longitude and latitude columns have missing)\n",
    "df = df.dropna()"
   ]
  },
  {
   "cell_type": "code",
   "execution_count": 3,
   "metadata": {},
   "outputs": [
    {
     "name": "stdout",
     "output_type": "stream",
     "text": [
      "Loading GeoNames data...\n"
     ]
    },
    {
     "name": "stderr",
     "output_type": "stream",
     "text": [
      "/var/folders/tz/0j3yjkdj7nvfwmbmk05fxk5w0000gn/T/ipykernel_55563/1105423911.py:16: DtypeWarning: Columns (12,13) have mixed types. Specify dtype option on import or set low_memory=False.\n",
      "  geonames = pd.read_csv(\n"
     ]
    }
   ],
   "source": [
    "# download and load GeoNames data into  DataFrame\n",
    "def download_and_load_geonames_data():\n",
    "    url = \"https://download.geonames.org/export/dump/cities500.zip\"\n",
    "\n",
    "    response = requests.get(url, stream=True)\n",
    "    with ZipFile(BytesIO(response.content)) as zip_ref:\n",
    "        with zip_ref.open(\"cities500.txt\") as file:\n",
    "            print(\"Loading GeoNames data...\")\n",
    "            columns = [\n",
    "                \"geonameid\", \"name\", \"asciiname\", \"alternatenames\", \"latitude\",\n",
    "                \"longitude\", \"feature_class\", \"feature_code\", \"country_code\",\n",
    "                \"cc2\", \"admin1_code\", \"admin2_code\", \"admin3_code\", \"admin4_code\",\n",
    "                \"population\", \"elevation\", \"dem\", \"timezone\", \"modification_date\"\n",
    "            ]\n",
    "\n",
    "            geonames = pd.read_csv(\n",
    "                file,\n",
    "                sep=\"\\t\",\n",
    "                header=None,\n",
    "                names=columns,\n",
    "                #usecols=[\"name\", \"latitude\", \"longitude\"]\n",
    "            )\n",
    "            return geonames\n",
    "\n",
    "df_geonames = download_and_load_geonames_data()"
   ]
  },
  {
   "cell_type": "code",
   "execution_count": 4,
   "metadata": {},
   "outputs": [],
   "source": [
    "row_london = df_geonames.loc[(df_geonames[\"name\"] == \"London\") & (df_geonames[\"country_code\"] == \"GB\")]\n",
    "latitude_london, longitude_london = row_london.iloc[0][[\"latitude\", \"longitude\"]]\n",
    "\n",
    "# calculate distance\n",
    "def haversine(lat1, lon1, lat2, lon2):\n",
    "    R = 6371 \n",
    "    lat1, lon1, lat2, lon2 = map(np.radians, [lat1, lon1, lat2, lon2])\n",
    "    dlat = lat2 - lat1\n",
    "    dlon = lon2 - lon1\n",
    "    a = np.sin(dlat / 2) ** 2 + np.cos(lat1) * np.cos(lat2) * np.sin(dlon / 2) ** 2\n",
    "    c = 2 * np.arctan2(np.sqrt(a), np.sqrt(1 - a))\n",
    "    return R * c\n",
    "\n",
    "# calculate distance to london for every city\n",
    "df_geonames['Distance_to_London_km'] = df_geonames.apply(\n",
    "    lambda row: haversine(latitude_london, longitude_london, row['latitude'], row['longitude']),\n",
    "    axis=1\n",
    ")\n"
   ]
  },
  {
   "cell_type": "code",
   "execution_count": 5,
   "metadata": {},
   "outputs": [],
   "source": [
    "# find the closest city to a given location\n",
    "def find_closest_city(lat, lon, geonames, kdtree):\n",
    "    distance, index = kdtree.query((lat, lon))\n",
    "    city = geonames.iloc[index]\n",
    "    return city[\"geonameid\"]\n",
    "\n",
    "kd_tree = KDTree(df_geonames[[\"latitude\", \"longitude\"]])\n",
    "df[\"geonameid\"] = df.apply(\n",
    "    lambda row: find_closest_city(row[\"lat\"], row[\"lng\"], df_geonames, kd_tree), axis=1\n",
    ")\n"
   ]
  },
  {
   "cell_type": "code",
   "execution_count": 6,
   "metadata": {},
   "outputs": [],
   "source": [
    "# join by geonameid and filter for distance to London <= 15 km\n",
    "df_merged = df.merge(df_geonames, on=\"geonameid\")\n",
    "df_merged = df_merged[df_merged[\"Distance_to_London_km\"] <= 15]\n",
    "\n",
    "# transform Review_Date to datetime and days_since_review to timedelta\n",
    "df_merged['Review_Date'] = pd.to_datetime(df_merged['Review_Date'], format='%m/%d/%Y').dt.strftime('%Y-%m-%d')\n",
    "df_merged['days_since_review'] = df_merged['days_since_review'].str.extract(r'(\\d+)').astype('int64')\n",
    "\n",
    "# create result DataFrame\n",
    "columns_to_keep = ['id','Hotel_Address', 'Additional_Number_of_Scoring', 'Review_Date', 'Average_Score', 'Hotel_Name', 'Reviewer_Nationality', 'Negative_Review'\n",
    "                   ,'Review_Total_Negative_Word_Counts', 'Total_Number_of_Reviews', 'Positive_Review', 'Review_Total_Positive_Word_Counts', 'Total_Number_of_Reviews_Reviewer_Has_Given'\n",
    "                   ,'Reviewer_Score', 'Tags', 'days_since_review', 'lat', 'lng', 'Distance_to_London_km', 'name']\n",
    "\n",
    "\n",
    "# select columns to keep and rename columns\n",
    "df_result = df_merged[columns_to_keep]\n",
    "df_result = df_result.assign(district=df_result['name'], city='London')\n",
    "df_result.drop(columns=['name'], inplace=True)\n",
    "\n",
    "# save result to csv (create directory if not exists)\n",
    "file_path_booking_london = 'data/booking_london'\n",
    "os.makedirs(os.path.dirname(file_path_booking_london), exist_ok=True)\n",
    "\n",
    "df_result.to_csv(file_path_booking_london+'/hotel_reviews_london.csv', index=False, header=True)\n",
    "df_result.to_parquet(file_path_booking_london+'/hotel_reviews_london.parquet', index=False)\n",
    "# to read: df = pd.read_parquet(file_path_booking_london+'/hotel_reviews_london.parquet')"
   ]
  }
 ],
 "metadata": {
  "kernelspec": {
   "display_name": "ml_ex2_env",
   "language": "python",
   "name": "python3"
  },
  "language_info": {
   "codemirror_mode": {
    "name": "ipython",
    "version": 3
   },
   "file_extension": ".py",
   "mimetype": "text/x-python",
   "name": "python",
   "nbconvert_exporter": "python",
   "pygments_lexer": "ipython3",
   "version": "3.12.3"
  }
 },
 "nbformat": 4,
 "nbformat_minor": 2
}
