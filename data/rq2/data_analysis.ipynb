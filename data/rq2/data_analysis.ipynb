{
 "cells": [
  {
   "cell_type": "markdown",
   "metadata": {},
   "source": [
    "## Data Analysis for Research Question 2\n",
    "\n",
    "Question: Is there a correlation between the number of hotels and other short-term rental options and the number of cafes, restaurants (other amenities used by tourists)?\n",
    "\n",
    "Todo: \n",
    "1. Plot counts vs years per amenity. One plot per city\n",
    "2. Correlation matrix\n",
    "3. Analyze development due to tourism vs due to flow of time"
   ]
  }
 ],
 "metadata": {
  "language_info": {
   "name": "python"
  }
 },
 "nbformat": 4,
 "nbformat_minor": 2
}
