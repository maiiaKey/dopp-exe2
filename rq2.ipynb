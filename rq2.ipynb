{
 "cells": [
  {
   "cell_type": "markdown",
   "metadata": {},
   "source": [
    "## Question: Is there a correlation between the number of hotels and other short-term rental options and the number of cafes, restaurants (other amenities used by tourists)?"
   ]
  },
  {
   "cell_type": "code",
   "execution_count": 31,
   "metadata": {},
   "outputs": [],
   "source": [
    "import requests"
   ]
  },
  {
   "cell_type": "markdown",
   "metadata": {},
   "source": [
    "### 1. Data Loading"
   ]
  },
  {
   "cell_type": "code",
   "execution_count": 32,
   "metadata": {},
   "outputs": [],
   "source": [
    "overpass_url = \"http://overpass-api.de/api/interpreter\"\n",
    "\n",
    "# Just to keep original query, will be deleted\n",
    "overpass_query = \"\"\"\n",
    "[out:json][date:\"2013-01-01T00:00:00Z\"];\n",
    "area[name=\"London\"][wikipedia=\"en:London\"];\n",
    "node[\"amenity\"=\"cafe\"](area);\n",
    "out;\n",
    "\"\"\""
   ]
  },
  {
   "cell_type": "code",
   "execution_count": 33,
   "metadata": {},
   "outputs": [],
   "source": [
    "def get_osm_amenity_data(date, city, amenity, city_wikipedia):\n",
    "    overpass_query = f\"\"\"\n",
    "        [out:json][date:\"{date}\"];\n",
    "        area[name=\"{city}\"][wikipedia=\"{city_wikipedia}\"];\n",
    "        node[\"amenity\"=\"{amenity}\"](area);\n",
    "        out;\n",
    "    \"\"\"\n",
    "    response = requests.get(overpass_url, params={'data': overpass_query})\n",
    "    data = response.json()\n",
    "    return data[\"elements\"]"
   ]
  },
  {
   "cell_type": "code",
   "execution_count": 39,
   "metadata": {},
   "outputs": [],
   "source": [
    "def get_osm_amenity_count(date, city, amenity, city_wikipedia):\n",
    "    overpass_query = f\"\"\"\n",
    "        [out:json][date:\"{date}\"];\n",
    "        area[name=\"{city}\"][wikipedia=\"{city_wikipedia}\"];\n",
    "        node[\"amenity\"=\"{amenity}\"](area);\n",
    "        out count;\n",
    "    \"\"\"\n",
    "    response = requests.get(overpass_url, params={'data': overpass_query})\n",
    "    data = response.json()\n",
    "    str_count = data['elements'][0]['tags']['total']\n",
    "    return int(str_count)"
   ]
  },
  {
   "cell_type": "code",
   "execution_count": 40,
   "metadata": {},
   "outputs": [
    {
     "data": {
      "text/plain": [
       "1437"
      ]
     },
     "execution_count": 40,
     "metadata": {},
     "output_type": "execute_result"
    }
   ],
   "source": [
    "data = get_osm_amenity_count(\"2013-01-01T00:00:00Z\", \"London\", \"cafe\", \"en:London\")\n",
    "data"
   ]
  },
  {
   "cell_type": "code",
   "execution_count": 36,
   "metadata": {},
   "outputs": [
    {
     "ename": "SyntaxError",
     "evalue": "expected ':' (2417609481.py, line 1)",
     "output_type": "error",
     "traceback": [
      "\u001b[1;36m  Cell \u001b[1;32mIn[36], line 1\u001b[1;36m\u001b[0m\n\u001b[1;33m    def get_osm_amenity_count(year)\u001b[0m\n\u001b[1;37m                                   ^\u001b[0m\n\u001b[1;31mSyntaxError\u001b[0m\u001b[1;31m:\u001b[0m expected ':'\n"
     ]
    }
   ],
   "source": []
  }
 ],
 "metadata": {
  "kernelspec": {
   "display_name": "Python 3",
   "language": "python",
   "name": "python3"
  },
  "language_info": {
   "codemirror_mode": {
    "name": "ipython",
    "version": 3
   },
   "file_extension": ".py",
   "mimetype": "text/x-python",
   "name": "python",
   "nbconvert_exporter": "python",
   "pygments_lexer": "ipython3",
   "version": "3.11.11"
  }
 },
 "nbformat": 4,
 "nbformat_minor": 2
}
